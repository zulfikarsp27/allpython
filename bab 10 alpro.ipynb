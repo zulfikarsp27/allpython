{
 "cells": [
  {
   "cell_type": "code",
   "execution_count": 1,
   "metadata": {},
   "outputs": [
    {
     "name": "stdout",
     "output_type": "stream",
     "text": [
      "Apel\n",
      "Mangga\n",
      "Jambu\n"
     ]
    }
   ],
   "source": [
    "#kegiatan 1\n",
    "\n",
    "fileku = open(\"buah.txt\",\"w\") #membuat file dengan nama buah.txt dan dimasukan pada variabel 'fileku' || \n",
    "                            #fungsi w (write): mengisi / mengedit data dalam file\n",
    "fileku.write('Apel\\n') #mengisikan data pada variabel 'fileku'\n",
    "fileku.write('Mangga\\n')\n",
    "fileku.write('Jambu')\n",
    "fileku.close()\n",
    "\n",
    "bacafileku = open(\"buah.txt\",\"r\") #menampilkan data pada file buah.txt || fungsi r (read) : membaca data\n",
    "print(bacafileku.read()) #membaca file dari 'variabel bacafileku'"
   ]
  },
  {
   "cell_type": "code",
   "execution_count": 3,
   "metadata": {},
   "outputs": [
    {
     "name": "stdout",
     "output_type": "stream",
     "text": [
      "Biologi\n",
      "PGSD\n",
      "PTI\n",
      "Akuntansi\n",
      "PAUD\n"
     ]
    }
   ],
   "source": [
    "#kegiatan 2\n",
    "\n",
    "fileku = open(\"jurusan.txt\",\"w\") #membuat file jurusan.txt\n",
    "fileku.write('Biologi\\n')\n",
    "fileku.write('PGSD\\n')\n",
    "fileku.write('PTI\\n')\n",
    "fileku.close()\n",
    "\n",
    "with open(\"jurusan.txt\",'a+') as f: #menamakan open (\"jurusan.txt\",'a+') menjadi 'f'  \n",
    "                                    #a+ (appen or read) berfungsi untuk membaca sekaligus menambah file yang sama\n",
    "    f.write('Akuntansi\\n')\n",
    "    f.write('PAUD')\n",
    "\n",
    "with open(\"jurusan.txt\",'r') as baca: #menamakan open (\"jurusan.txt\",'r') menjadi 'baca'\n",
    "    print(baca.read())"
   ]
  },
  {
   "cell_type": "code",
   "execution_count": null,
   "metadata": {},
   "outputs": [],
   "source": []
  },
  {
   "cell_type": "code",
   "execution_count": 5,
   "metadata": {},
   "outputs": [
    {
     "name": "stdout",
     "output_type": "stream",
     "text": [
      "Filenamenya adalah :  kereta.txt\n",
      "File modenya adalah a+\n",
      "Encoding filenya adalah cp1252\n",
      "Apakah file sudah ditutup? False\n",
      "Apakah file sudah ditutup True\n"
     ]
    }
   ],
   "source": [
    "#kegiatan 3\n",
    "\n",
    "fileku = open(\"kereta.txt\", \"w\")\n",
    "fileku.write('Prameks\\n')\n",
    "fileku.write('Joglosemarkerto\\n')\n",
    "fileku.write('Sancaka\\n')\n",
    "fileku.close()\n",
    "\n",
    "my_file = open(\"kereta.txt\", \"a+\") #membuat file kereta.txt dengan nama variabel 'my_file'\n",
    "print(\"Filenamenya adalah : \", my_file.name) #menampilkan nama file yg telah dibuat\n",
    "print(\"File modenya adalah\", my_file.mode) #menampilkan file mode (status file : w / r / a+ dll)\n",
    "print(\"Encoding filenya adalah\", my_file.encoding) #menampilkan kode encoding file\n",
    "print(\"Apakah file sudah ditutup?\", my_file.closed) #mengecek apakah file sudah ditutup, jika blm maka menampilkan false\n",
    "my_file.close()\n",
    "print(\"Apakah file sudah ditutup\", my_file.closed) #mengecek apakah file sudah ditutup, jika sudah maka menampilkan true"
   ]
  },
  {
   "cell_type": "code",
   "execution_count": null,
   "metadata": {},
   "outputs": [],
   "source": []
  }
 ],
 "metadata": {
  "kernelspec": {
   "display_name": "Python 3",
   "language": "python",
   "name": "python3"
  },
  "language_info": {
   "codemirror_mode": {
    "name": "ipython",
    "version": 3
   },
   "file_extension": ".py",
   "mimetype": "text/x-python",
   "name": "python",
   "nbconvert_exporter": "python",
   "pygments_lexer": "ipython3",
   "version": "3.8.3"
  }
 },
 "nbformat": 4,
 "nbformat_minor": 4
}

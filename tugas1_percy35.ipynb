{
 "cells": [
  {
   "cell_type": "code",
   "execution_count": 1,
   "metadata": {
    "scrolled": false
   },
   "outputs": [
    {
     "name": "stdout",
     "output_type": "stream",
     "text": [
      "fkip\n",
      "ums\n",
      "2020\n",
      "True\n",
      "-----------------------\n",
      "True\n",
      "fkip\n",
      "-----------------------\n",
      "['t', 'i']\n",
      "['p', 't', 'i']\n",
      "['i', 'u', 'm', 's']\n",
      "['p', 't', 'i', 'u', 'm', 's']\n",
      "-----------------------\n",
      "['p', 't', 'i']\n",
      "['t', 'i']\n"
     ]
    }
   ],
   "source": [
    "    #LIST 1\n",
    "#data pada list dapat diisi dengan string, interger maupun boolean\n",
    "#list juga bisa diibaratkan seperti array\n",
    "\n",
    "pti = ['fkip','ums',2020,True]\n",
    "      #[ 0    , 1   , 2  , 3 ]\n",
    "#list dihitung dari posisi data indeks ke-0\n",
    "\n",
    "print (pti[0]) #list pada indeks ke-0\n",
    "print (pti[1]) #list pada indeks ke-1\n",
    "print (pti[2]) #list pada indeks ke-2\n",
    "print (pti[3]) #list pada indeks ke-3\n",
    "print (\"-----------------------\")\n",
    "print (pti[-1]) #list indeks ke-1 terakhir (indeks ke [3])\n",
    "print (pti[-4]) #list indeks ke-4 terakhir (indeks ke [0])\n",
    "print (\"-----------------------\")\n",
    "#LIST 2\n",
    "pti2 = ['p','t','i','u','m','s']\n",
    "    # [  0, 1, , 2 , 3 , 4 , 5  ]\n",
    "print (pti2[1:3]) #menampilkan indeks ke-1 sampai ke-2\n",
    "print (pti2[:3]) #menampilkan indeks paling awal sampai ke-2\n",
    "print (pti2[2:]) #menampilkan indeks ke-2 sampai terakhir\n",
    "print (pti2[:]) #menampilkan seluruh data list\n",
    "print (\"-----------------------\")\n",
    "del pti2[3:6] #menghapus data indeks ke 3 sampai ke 5\n",
    "print (pti2)\n",
    "pti2.remove('p') #menghapus data 'p'\n",
    "print (pti2)\n"
   ]
  },
  {
   "cell_type": "code",
   "execution_count": 51,
   "metadata": {},
   "outputs": [
    {
     "name": "stdout",
     "output_type": "stream",
     "text": [
      "NIM   : 118\n",
      "Nama  : Zulfikar SP\n",
      "Prodi : PTI\n",
      "=================================\n",
      "Data Mahasiswa, NIM :28, Nama :Fauzan Al Dary, Prodi :PTI\n"
     ]
    }
   ],
   "source": [
    "#TUPLE\n",
    "mhs=(118,\"Zulfikar SP\",\"PTI\")\n",
    "print (\"NIM   :\",mhs[0])\n",
    "print (\"Nama  :\",mhs[1])\n",
    "print (\"Prodi :\",mhs[2])\n",
    "print(\"=================================\")\n",
    "mhs2= 28,\"Fauzan Al Dary\",\"PTI\"\n",
    "nim,nama,prodi = mhs2\n",
    "print('Data Mahasiswa, NIM :{}, Nama :{}, Prodi :{}'.format(nim,nama,prodi))"
   ]
  },
  {
   "cell_type": "code",
   "execution_count": 50,
   "metadata": {},
   "outputs": [
    {
     "name": "stdout",
     "output_type": "stream",
     "text": [
      "{1, 2, 3, 4, 5, 6, 7, 8}\n",
      "{4, 5}\n",
      "{1, 2, 3}\n"
     ]
    }
   ],
   "source": [
    " #deklarasi set\n",
    "A = {1,2,3,4,5}\n",
    "B = {4,5,6,7,8}\n",
    "\n",
    " #union (menggabungkan ke 2 himpunan)\n",
    "print (A|B)\n",
    "\n",
    " #intersect (menampilkan irisan antar 2 himpunan)\n",
    "print (A&B)\n",
    "\n",
    " #difference ( menampilkan kasil pengurangan dari 2 himpunan )\n",
    "print (A-B)\n"
   ]
  },
  {
   "cell_type": "code",
   "execution_count": 65,
   "metadata": {},
   "outputs": [
    {
     "name": "stdout",
     "output_type": "stream",
     "text": [
      "101\n",
      "Pemograman Python\n",
      "None\n",
      "tersedia\n"
     ]
    }
   ],
   "source": [
    " #deklarasi dictionaries\n",
    "buku = {'id':101,'nama buku':'Pemograman Python','Harga':5000,'ket':'tersedia'}\n",
    "\n",
    " #untuk menampilkan dictionary ada 2 tipe\n",
    "print(buku['id'])\n",
    "print(buku.get('nama buku'))\n",
    "print(buku.get('harga'))\n",
    "print(buku['ket'])"
   ]
  },
  {
   "cell_type": "code",
   "execution_count": 5,
   "metadata": {},
   "outputs": [
    {
     "name": "stdout",
     "output_type": "stream",
     "text": [
      "Jumlah elemen pada list bulan1 :  6\n",
      "Jumlah elemen pada list tahun :  12\n",
      "['januari', 'februari', 'maret', 'april', 'mei', 'juni', 'juli', 'agustus', 'september', 'oktober', 'november', 'desember']\n",
      "['maret', 'april', 'mei']\n",
      "['januari', 'februari', 'maret', 'april', 'mei', 'juni']\n",
      "['september', 'oktober', 'november', 'desember']\n",
      "['februari', 'maret', 'april', 'mei', 'juni', 'juli', 'agustus', 'september', 'oktober', 'november']\n",
      "['februari', 'maret', 'maret', 'april', 'mei', 'juni', 'juli', 'agustus', 'september', 'oktober', 'november', 'desember']\n",
      "['desember', 'november', 'oktober', 'september', 'agustus', 'juli', 'juni', 'mei', 'april', 'maret', 'maret', 'februari']\n"
     ]
    }
   ],
   "source": [
    "#kegiatan1\n",
    "bulan1 = ['januari','februari','maret','april','mei','juni']\n",
    "bulan2 = ['juli','agustus','september','oktober','november','desember']\n",
    "\n",
    "print('Jumlah elemen pada list bulan1 : ', len(bulan1)) #fungsi len untuk mengetahui panjang list\n",
    "tahun = bulan1 + bulan2 #penggabungan list\n",
    "print('Jumlah elemen pada list tahun : ', len(tahun))\n",
    "print(tahun) #menampilkan seluruh data list\n",
    "print(tahun[2:5]) #menampilkan list indeks ke 2 sampai sebelum ke 5\n",
    "print(tahun[:6]) #menampilkan list sampai sebelum indeks ke 6 (indeks ke 5)\n",
    "print(tahun[8:]) #menampilkan list mulai dari indeks ke 8\n",
    "del tahun[2] #menghapus list pada bulan maret (indeks ke 2)\n",
    "tahun.remove('desember') #menghapus isi data list 'desember'\n",
    "print(tahun)\n",
    "tahun.insert(2,'maret')  #menambahkan data 'maret' pada list dengan posisi indeks ke 2\n",
    "tahun.append('desember') #menambahkan data 'desember' ke indeks terakhir\n",
    "\n",
    "print(tahun)\n",
    "tahun.reverse() #membalikan urutan list\n",
    "print(tahun)"
   ]
  },
  {
   "cell_type": "code",
   "execution_count": 7,
   "metadata": {},
   "outputs": [
    {
     "name": "stdout",
     "output_type": "stream",
     "text": [
      "hino\n",
      "('hino', 3000)\n",
      "(2.5, 130)\n",
      "1\n",
      "True\n",
      "truk hino memiliki berat 2.5 ton, kapasitas 3000 cc dan top speed 130 km/jam\n"
     ]
    }
   ],
   "source": [
    "#kegiatan 2 : tuple\n",
    "truk = ('hino', 3000, 2.5 , 130 )\n",
    "merk, cc , berat , top_speed = truk\n",
    "print(truk[0]) #menampilkan data indeks ke 0\n",
    "print(truk[:2]) #menampilkan data sampai sebelum list ke 2\n",
    "print(truk[2:])  #menampilkan data mulai dari indeks ke 2\n",
    "print(truk.index(3000)) #mengecek posisi indeks '3000'\n",
    "print(2.5 in truk) #mengecek data '2.5' pada tuple truk\n",
    "print('truk {} memiliki berat {} ton, kapasitas {} cc dan top speed {} km/jam'.\n",
    "format(merk,berat,cc,top_speed))"
   ]
  },
  {
   "cell_type": "code",
   "execution_count": 3,
   "metadata": {},
   "outputs": [
    {
     "name": "stdout",
     "output_type": "stream",
     "text": [
      "{1, 2, 3, 4}\n",
      "{4, 5, 6, 7}\n",
      "{1, 2, 3, 4, 5, 6}\n",
      "{4, 5, 6, 7, 8, 9}\n",
      "{1, 2, 3, 4, 5, 6, 7, 8, 9}\n",
      "{5}\n",
      "True\n"
     ]
    }
   ],
   "source": [
    "#kegiatan 3\n",
    "set_satu = {1,2,3}\n",
    "set_dua = {4,5,6}\n",
    "\n",
    "set_satu.add(4) #menambahkan data '4' pada set_satu\n",
    "set_dua.add(7) #menambahkan data '7' pada set_dua\n",
    "\n",
    "print(set_satu)\n",
    "print(set_dua)\n",
    "\n",
    "set_satu.update([5,6]) #menambahkan data '5 6' pada set_satu\n",
    "set_dua.update([8,9]) #menambahkan data '8 9' pada set_dua\n",
    "\n",
    "print(set_satu)\n",
    "print(set_dua)\n",
    "\n",
    "set_satu.discard(6) #menghilangkan data '6'\n",
    "set_dua.remove(4)   #menghapus data '6'\n",
    "\n",
    "print(set_satu | set_dua) #menampilkan gabungan himpunan set_satu dan set_dua\n",
    "print(set_satu & set_dua) #menampilkan irisan himpunan set_satu dan set_dua\n",
    "print(1 in set_satu) #cek data '1' pada set_satu"
   ]
  },
  {
   "cell_type": "code",
   "execution_count": 4,
   "metadata": {},
   "outputs": [
    {
     "name": "stdout",
     "output_type": "stream",
     "text": [
      "{'nama': 'Andika', 'umur': 19, 'alamat': 'Sragen', 'angkatan': 2020}\n",
      "2020\n",
      "{'nama': 'Andika', 'umur': 19, 'alamat': 'Sragen'}\n",
      "True\n",
      "3\n",
      "['alamat', 'nama', 'umur']\n",
      "{}\n"
     ]
    }
   ],
   "source": [
    "#kegiatan 4\n",
    "mahasiswa = {'nama':'Andika','umur':21}\n",
    "#menambahkan data pada dictionary\n",
    "mahasiswa['umur'] = 19 \n",
    "mahasiswa['alamat'] = 'Sragen'\n",
    "mahasiswa['angkatan'] = 2020\n",
    "\n",
    "print(mahasiswa) #menampilkan data mahasiswa\n",
    "print(mahasiswa.pop('angkatan')) #menghapus data angkatan\n",
    "print(mahasiswa)\n",
    "print('nama' in mahasiswa) #cek data nama\n",
    "print(len(mahasiswa)) #panjang data\n",
    "print(sorted(mahasiswa)) #mengurutkan key pada data mahasiswa\n",
    "mahasiswa.clear() #menghapus seluruh data\n",
    "print(mahasiswa)"
   ]
  },
  {
   "cell_type": "code",
   "execution_count": null,
   "metadata": {},
   "outputs": [],
   "source": []
  }
 ],
 "metadata": {
  "kernelspec": {
   "display_name": "Python 3",
   "language": "python",
   "name": "python3"
  },
  "language_info": {
   "codemirror_mode": {
    "name": "ipython",
    "version": 3
   },
   "file_extension": ".py",
   "mimetype": "text/x-python",
   "name": "python",
   "nbconvert_exporter": "python",
   "pygments_lexer": "ipython3",
   "version": "3.8.3"
  }
 },
 "nbformat": 4,
 "nbformat_minor": 4
}
